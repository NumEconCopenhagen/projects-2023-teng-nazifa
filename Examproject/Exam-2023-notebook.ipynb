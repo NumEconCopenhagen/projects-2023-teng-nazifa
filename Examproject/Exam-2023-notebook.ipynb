{
 "cells": [
  {
   "attachments": {},
   "cell_type": "markdown",
   "metadata": {},
   "source": [
    "**Table of contents**<a id='toc0_'></a>    \n",
    "- 1. [Problem 1: Optimal taxation with government consumption](#toc1_)    \n",
    "- 2. [Problem 2: Labor adjustment costs](#toc2_)    \n",
    "- 3. [Problem 3: Global optimizer with refined multi-start](#toc3_)    \n",
    "\n",
    "<!-- vscode-jupyter-toc-config\n",
    "\tnumbering=true\n",
    "\tanchor=true\n",
    "\tflat=false\n",
    "\tminLevel=2\n",
    "\tmaxLevel=6\n",
    "\t/vscode-jupyter-toc-config -->\n",
    "<!-- THIS CELL WILL BE REPLACED ON TOC UPDATE. DO NOT WRITE YOUR TEXT IN THIS CELL -->"
   ]
  },
  {
   "cell_type": "code",
   "execution_count": 24,
   "metadata": {},
   "outputs": [],
   "source": [
    "# write your code here\n",
    "import numpy as np\n",
    "import pandas as pd\n",
    "import matplotlib.pyplot as plt\n",
    "plt.rcParams.update({\"axes.grid\":True,\"grid.color\":\"black\",\"grid.alpha\":\"0.25\",\"grid.linestyle\":\"--\"})\n",
    "plt.rcParams.update({'font.size': 14})\n",
    "from IPython.display import display\n",
    "from scipy import interpolate\n",
    "from scipy import optimize\n",
    "from types import SimpleNamespace\n",
    "import time\n",
    "import sympy as sm\n",
    "from scipy import linalg\n",
    "from matplotlib import cm\n",
    "from mpl_toolkits.mplot3d import Axes3D"
   ]
  },
  {
   "attachments": {},
   "cell_type": "markdown",
   "metadata": {},
   "source": [
    "## 1. <a id='toc1_'></a>[Problem 1: Optimal taxation with government consumption](#toc0_)"
   ]
  },
  {
   "attachments": {},
   "cell_type": "markdown",
   "metadata": {},
   "source": [
    "\n",
    "Consider a worker choosing hours of labor, $L\\in[0,24]$, to maximize utility: \n",
    "\n",
    "$$\n",
    "\\begin{align*}\n",
    "V(w,\\tau,G)&=\\max_{L\\in[0,24]}\\ln\\left(C^{\\alpha}G^{1-\\alpha}\\right)-\\nu\\frac{L^{2}}{2}\\\\&\\text{s.t.}\\\\&C=\\kappa+(1-\\tau)wL\n",
    "\\end{align*}\n",
    "$$\n",
    "\n",
    "where \n",
    "\n",
    "* $C$ is *private* consumption with weight $\\alpha\\in(0,1)$.\n",
    "* $\\kappa > 0$ is the *free private* consumption component.\n",
    "* $C = (1-\\tau)wL$ is the *costly private* consumption component.\n",
    "* $w > 0 $ is the real wage.\n",
    "* $\\tau \\in (0,1)$ is the labor-income tax rate.\n",
    "* $G > 0 $ is *government* consumption with weight $1-\\alpha$.\n",
    "* $\\nu > 0$ is the disutility of labor scaling factor"
   ]
  },
  {
   "attachments": {},
   "cell_type": "markdown",
   "metadata": {},
   "source": [
    "\n",
    "The baseline parameters are:\n",
    "\n",
    "$$\n",
    "\\begin{align*}\n",
    "\\alpha &= 0.5\\\\\n",
    "\\kappa &= 1.0\\\\\n",
    "\\nu &= \\frac{1}{2\\cdot16^2} \\\\\n",
    "w &= 1.0 \\\\ \n",
    "\\tau &= 0.30 \\\\\n",
    "\\end{align*}\n",
    "$$"
   ]
  },
  {
   "attachments": {},
   "cell_type": "markdown",
   "metadata": {},
   "source": [
    "**Question 1:** Verify that the optimal labor supply choice is $L^{\\star}(\\tilde{w}) =\\frac{-\\kappa+\\sqrt{\\kappa^{2}+4\\frac{\\alpha}{\\nu}\\tilde{w}^2}}{2\\tilde{w}}$, where $\\tilde{w} = (1-\\tau)w$, for $G\\in\\left\\{1.0 , 2.0\\right\\}$."
   ]
  },
  {
   "cell_type": "code",
   "execution_count": 25,
   "metadata": {},
   "outputs": [
    {
     "name": "stdout",
     "output_type": "stream",
     "text": [
      "The autoreload extension is already loaded. To reload it, use:\n",
      "  %reload_ext autoreload\n"
     ]
    }
   ],
   "source": [
    "%load_ext autoreload\n",
    "%autoreload 2\n",
    "\n",
    "import exam_question1 as LS"
   ]
  },
  {
   "cell_type": "code",
   "execution_count": 26,
   "metadata": {},
   "outputs": [],
   "source": [
    "G = [1.0, 2.0]\n",
    "alpha = 0.5\n",
    "nu = (1)/(2*(16**2))\n",
    "kappa = 1.0\n",
    "tau = 0.30\n",
    "wage = 1.0\n",
    "tax_wage = (1-tau)*wage"
   ]
  },
  {
   "cell_type": "code",
   "execution_count": 27,
   "metadata": {},
   "outputs": [
    {
     "name": "stdout",
     "output_type": "stream",
     "text": [
      "15.30165022719559\n"
     ]
    }
   ],
   "source": [
    "expected_l = (-kappa+(kappa**2 +4*(alpha/nu)*tax_wage**2)**(1/2))/(2*tax_wage)\n",
    "print(expected_l)"
   ]
  },
  {
   "cell_type": "code",
   "execution_count": 28,
   "metadata": {},
   "outputs": [
    {
     "name": "stdout",
     "output_type": "stream",
     "text": [
      "The optimal labor supply for G=1 is 15.301650159969068\n",
      "The expected labor supply for G=1 is 15.30165022719559\n",
      "Are the two values equal? True\n",
      "The optimal labor supply for G=2 is 15.301650159969068\n",
      "The expected labor supply for G=2 is 15.30165022719559\n",
      "Are the two values equal? True\n"
     ]
    }
   ],
   "source": [
    "for g in [1, 2]:\n",
    "    optimal_L = LS.optimal_labor_supply(alpha, nu, kappa, tau, wage)\n",
    "    expected_L = (-kappa+(kappa**2 +4*(alpha/nu)*tax_wage**2)**(1/2))/(2*tax_wage)\n",
    "    print(f\"The optimal labor supply for G={g} is {optimal_L}\")\n",
    "    print(f\"The expected labor supply for G={g} is {expected_L}\")\n",
    "    print(f\"Are the two values equal? {np.allclose(optimal_L, expected_L, atol=1e-8)}\")"
   ]
  },
  {
   "attachments": {},
   "cell_type": "markdown",
   "metadata": {},
   "source": [
    "Based on the code of the Python file exam_question1 we can see that the optimized value is the same as the suggested in this case the Gov consumption doesn't inffluence the Labor Supply"
   ]
  },
  {
   "attachments": {},
   "cell_type": "markdown",
   "metadata": {},
   "source": [
    "**Question 2:** Illustrate how $L^{\\star}(\\tilde{w})$ depends on $w$."
   ]
  },
  {
   "cell_type": "code",
   "execution_count": 29,
   "metadata": {},
   "outputs": [],
   "source": [
    "# write your code here\n",
    "N = 1000\n",
    "w_vec = np.linspace(0.5,1.5,N)\n",
    "L_vec = np.zeros(N)\n",
    "\n",
    "for i in range(N):\n",
    "    L_vec[i] = LS.expected_L(kappa,alpha,nu,w_vec[i])\n"
   ]
  },
  {
   "cell_type": "code",
   "execution_count": 30,
   "metadata": {},
   "outputs": [
    {
     "data": {
      "image/png": "[encoded data removed]",
      "text/plain": [
       "<Figure size 864x288 with 1 Axes>"
      ]
     },
     "metadata": {
      "needs_background": "light"
     },
     "output_type": "display_data"
    }
   ],
   "source": [
    "fig = plt.figure(figsize=(12,4))\n",
    "\n",
    "ax = fig.add_subplot(1,2,1)\n",
    "ax.plot(w_vec,L_vec,'-')\n",
    "ax.set_ylabel('labor supply, $\\ell$')\n",
    "ax.set_xlabel('wage, $w$')\n",
    "ax.set_title('Labor suppply')\n",
    "\n",
    "fig.tight_layout(pad=1.0)"
   ]
  },
  {
   "attachments": {},
   "cell_type": "markdown",
   "metadata": {},
   "source": [
    "The graph appears to be corrrect based on the economic theory because there is a positive trend. So the wages affect in a positive way the labor supply, but each time the impact is of less magnitude"
   ]
  },
  {
   "attachments": {},
   "cell_type": "markdown",
   "metadata": {},
   "source": [
    "\n",
    "We now consider a government, who chooses $\\tau$ and spend all of the taxes on government consumption so:\n",
    "\n",
    "$$\n",
    "G = \\tau w L^{\\star}((1-\\tau)w)\n",
    "$$\n",
    "\n",
    "**Question 3:** Plot the implied $L$, $G$ and worker utility for a grid of $\\tau$-values.\n"
   ]
  },
  {
   "cell_type": "code",
   "execution_count": 32,
   "metadata": {},
   "outputs": [],
   "source": [
    "# write your code here\n",
    "N = 1000\n",
    "tau_vec = np.linspace(0.1,1.0,N)\n",
    "L_vec = np.zeros(N)\n",
    "G_vec = np.zeros(N)\n",
    "u_vec = np.zeros(N)\n",
    "G = 1\n",
    "\n",
    "for i in range(N):\n",
    "    # Calculate the optimal labor supply given the initial gov consumption of 1\n",
    "    labor_supply = LS.optimal_labor_supply(alpha,nu,kappa,tau_vec[i],wage)\n",
    "    # Calculate the government consumption\n",
    "    gov_consumption = LS.gov_endogenous(alpha,nu,kappa,tau_vec[i],wage) \n",
    "    # Calculate the final utility\n",
    "    utility = LS.value_of_choice(labor_supply,G,alpha,nu,kappa,tau,wage)\n",
    "    #Store values in the vectors\n",
    "    G_vec[i] = gov_consumption\n",
    "    L_vec[i] = labor_supply\n",
    "    u_vec[i] = utility"
   ]
  },
  {
   "cell_type": "code",
   "execution_count": 33,
   "metadata": {},
   "outputs": [
    {
     "data": {
      "image/png": "[encoded data removed]",
      "text/plain": [
       "<Figure size 864x288 with 3 Axes>"
      ]
     },
     "metadata": {
      "needs_background": "light"
     },
     "output_type": "display_data"
    }
   ],
   "source": [
    "# Plot the government consumption and the optimal labor supply\n",
    "fig = plt.figure(figsize=(12,4))\n",
    "\n",
    "ax = fig.add_subplot(1,3,1)\n",
    "ax.plot(tau_vec,L_vec,'-')\n",
    "ax.set_ylabel('labor supply')\n",
    "ax.set_xlabel('tax rate')\n",
    "ax.set_title('Labor suppply')\n",
    "\n",
    "ax = fig.add_subplot(1,3,2)\n",
    "ax.plot(tau_vec,G_vec,'-')\n",
    "ax.set_ylabel('gov consumption')\n",
    "ax.set_xlabel('tax rate')\n",
    "ax.set_title('Gov. Consumption')\n",
    "\n",
    "ax = fig.add_subplot(1,3,3)\n",
    "ax.plot(tau_vec,u_vec,'-')\n",
    "ax.set_ylabel('utility')\n",
    "ax.set_xlabel('tax rate')\n",
    "ax.set_title('Total utility')\n",
    "\n",
    "fig.tight_layout(pad=1.0)"
   ]
  },
  {
   "attachments": {},
   "cell_type": "markdown",
   "metadata": {},
   "source": [
    "In the graph the optimal labor supply changes in a very little proportion compared with the goverment consumption"
   ]
  },
  {
   "attachments": {},
   "cell_type": "markdown",
   "metadata": {},
   "source": [
    "The taxes affect in a negative way the labor supply, and at low rates in a positive way to the gov consumption. At the end when we mixed both effects on the utility the effect is ambigous."
   ]
  },
  {
   "attachments": {},
   "cell_type": "markdown",
   "metadata": {},
   "source": [
    "**Question 4:** Find the socially optimal tax rate $\\tau^{\\star}\\in(0,1)$ maximizing worker utility. Illustrate your result."
   ]
  },
  {
   "cell_type": "code",
   "execution_count": 34,
   "metadata": {},
   "outputs": [],
   "source": [
    "alpha = 0.5\n",
    "nu = (1)/(2*(16**2))\n",
    "kappa = 1.0\n",
    "tau = 0.30\n",
    "wage = 1.0\n",
    "tax_wage = (1-tau)*wage"
   ]
  },
  {
   "cell_type": "code",
   "execution_count": 35,
   "metadata": {},
   "outputs": [
    {
     "name": "stdout",
     "output_type": "stream",
     "text": [
      "Optimal value of tau for maximizing utility: 0.5145302358265487\n"
     ]
    }
   ],
   "source": [
    "# write your code here\n",
    "optimal_tau = LS.optimal_tau(alpha, nu, kappa, wage)\n",
    "print(\"Optimal value of tau for maximizing utility:\", optimal_tau)"
   ]
  },
  {
   "cell_type": "code",
   "execution_count": 37,
   "metadata": {},
   "outputs": [
    {
     "name": "stdout",
     "output_type": "stream",
     "text": [
      "The utility with the optimal tax rate is 1.859199253297711\n"
     ]
    }
   ],
   "source": [
    "tau = 0.5145302358265487\n",
    "L = LS.optimal_labor_supply(alpha,nu,kappa,tau,wage)\n",
    "G = LS.gov_endogenous(alpha,nu,kappa,tau,wage)\n",
    "new_utility = LS.value_of_choice(L,G,alpha,nu,kappa,tau,wage)\n",
    "print(f'The utility with the optimal tax rate is {new_utility}')"
   ]
  },
  {
   "cell_type": "code",
   "execution_count": 39,
   "metadata": {},
   "outputs": [
    {
     "name": "stderr",
     "output_type": "stream",
     "text": [
      "c:\\Users\\masat\\Documents\\projects-2023-team-copenhagen-1\\exam project\\exam_question1.py:16: RuntimeWarning: divide by zero encountered in log\n",
      "  positive = np.log(C**alpha*G**(1-alpha))\n"
     ]
    },
    {
     "data": {
      "image/png": "[encoded data removed]",
      "text/plain": [
       "<Figure size 432x288 with 1 Axes>"
      ]
     },
     "metadata": {
      "needs_background": "light"
     },
     "output_type": "display_data"
    }
   ],
   "source": [
    "N = 1000\n",
    "tau_vec = np.linspace(0,1.0,N)\n",
    "L_vec = np.zeros(N)\n",
    "G_vec = np.zeros(N)\n",
    "u_vec = np.zeros(N)\n",
    "\n",
    "# Calculate and store values\n",
    "for i in range(1000):        \n",
    "# Calculate the optimal labor supply\n",
    "    L_vec[i] = LS.optimal_labor_supply(alpha, nu, kappa, tau_vec[i], wage)\n",
    "\n",
    "# Calculate the government consumption\n",
    "    G_vec[i] = LS.gov_endogenous(alpha,nu,kappa,tau_vec[i],wage)\n",
    "\n",
    "# Calculate the optimal utility\n",
    "    u_vec[i] = LS.value_of_choice(L_vec[i],G_vec[i],alpha,nu,kappa,tau_vec[i],wage)\n",
    "\n",
    "\n",
    "# Plot the labor supply and the government consumption\n",
    "plt.plot(tau_vec, L_vec, '-', label='Labor supply')\n",
    "plt.plot(tau_vec, G_vec, '-', label='Government consumption')\n",
    "plt.plot(tau_vec, u_vec, '-', label='Total Utility')\n",
    "plt.xlabel('Tax rate')\n",
    "plt.ylabel('Value')\n",
    "plt.legend()\n",
    "plt.show()"
   ]
  },
  {
   "attachments": {},
   "cell_type": "markdown",
   "metadata": {},
   "source": [
    "Here we can observe that the value of the tax rate that is optimal indicates the maximum point of the function of the utility for the worker."
   ]
  },
  {
   "attachments": {},
   "cell_type": "markdown",
   "metadata": {},
   "source": [
    "A more general preference formulation for the worker is:\n",
    "\n",
    "$$\n",
    "\\begin{align*}\n",
    "\\mathcal{V}(w,\\tau,G)&=\\max_{L\\in[0,24]}\\frac{\\left[ \\left( \\alpha C^{\\frac{\\sigma-1}{\\sigma}}+(1-\\alpha) G^{\\frac{\\sigma-1}{\\sigma}} \\right)^{\\frac{\\sigma}{1-\\sigma} }\\right]^{1-\\rho}-1}{1-\\rho}- \\nu\\frac{L^{1+\\varepsilon}}{1+\\varepsilon},\\,\\,\\,\\varepsilon,\\rho,\\sigma>0,\\,\\,\\,\\rho,\\sigma\\neq1\\\\&\\text{s.t.}\\\\&C=\\kappa+(1-\\tau)wL\n",
    "\\end{align*}    \n",
    "$$\n",
    "\n",
    "Optimal labor supply is now $L^{\\star}(\\tilde{w},G)$."
   ]
  },
  {
   "attachments": {},
   "cell_type": "markdown",
   "metadata": {},
   "source": [
    "Questions 5 and 6 must be answered with the general formulation, and for 2 different set of parameters:\n",
    "\n",
    "- Set 1:  $\\sigma = 1.001$, $\\rho = 1.001$ and $\\varepsilon = 1.0$.\n",
    "- Set 2:  $\\sigma = 1.5$, $\\rho = 1.5$ and $\\varepsilon = 1.0 $."
   ]
  },
  {
   "attachments": {},
   "cell_type": "markdown",
   "metadata": {},
   "source": [
    "**Question 5:** Find the $G$ that solves $G = \\tau w L^{\\star}((1-\\tau)w,G)$ using the $\\tau$ found in question 4.\n",
    "\n",
    "*Hint: First write code that solves the worker problem for given values of $G$ and $\\tau$. Then find the correct G based on this.*"
   ]
  },
  {
   "cell_type": "code",
   "execution_count": 40,
   "metadata": {},
   "outputs": [],
   "source": [
    "import exam_question11 as LSU"
   ]
  },
  {
   "cell_type": "code",
   "execution_count": 41,
   "metadata": {},
   "outputs": [],
   "source": [
    "sigma = 1.001\n",
    "rho = 1.001\n",
    "epsilon = 1\n",
    "wage = 1.0\n",
    "alpha = 0.5\n",
    "nu = (1)/(2*(16**2))\n",
    "kappa = 1.0\n",
    "tau = 0.3381713132610841\n"
   ]
  },
  {
   "cell_type": "code",
   "execution_count": 42,
   "metadata": {},
   "outputs": [
    {
     "name": "stdout",
     "output_type": "stream",
     "text": [
      "The value of the Gov consumption given the fixed values is 0.05203826682041455\n"
     ]
    }
   ],
   "source": [
    "ll = LSU.solve_G(alpha, sigma, rho, nu, epsilon, kappa, tau, wage)\n",
    "print(f'The value of the Gov consumption given the fixed values is {ll}')"
   ]
  },
  {
   "cell_type": "code",
   "execution_count": 43,
   "metadata": {},
   "outputs": [
    {
     "name": "stdout",
     "output_type": "stream",
     "text": [
      "An the tax rate that maximizes the utility of the worker is 0.5123505359799203\n"
     ]
    }
   ],
   "source": [
    "yyy = LSU.optimal_tax(alpha, sigma, rho, nu, epsilon, kappa, wage)\n",
    "print(f'An the tax rate that maximizes the utility of the worker is {yyy}')"
   ]
  },
  {
   "cell_type": "code",
   "execution_count": 44,
   "metadata": {},
   "outputs": [],
   "source": [
    "sigma = 1.5\n",
    "rho = 1.5\n",
    "epsilon = 1\n",
    "wage = 1.0\n",
    "alpha = 0.5\n",
    "nu = (1)/(2*(16**2))\n",
    "kappa = 1.0\n",
    "tau = 0.3381713132610841"
   ]
  },
  {
   "cell_type": "code",
   "execution_count": 45,
   "metadata": {},
   "outputs": [
    {
     "name": "stdout",
     "output_type": "stream",
     "text": [
      "The value of the Gov consumption given the fixed values is 8.116110069815115\n"
     ]
    }
   ],
   "source": [
    "ll = LSU.solve_G(alpha, sigma, rho, nu, epsilon, kappa, tau, wage)\n",
    "print(f'The value of the Gov consumption given the fixed values is {ll}')"
   ]
  },
  {
   "attachments": {},
   "cell_type": "markdown",
   "metadata": {},
   "source": [
    "**Question 6:** Find the socially optimal tax rate, $\\tau^{\\star}$, maximizing worker utility, while keeping $G = \\tau w L^{\\star}((1-\\tau)w,G)$."
   ]
  },
  {
   "cell_type": "code",
   "execution_count": 46,
   "metadata": {},
   "outputs": [
    {
     "name": "stdout",
     "output_type": "stream",
     "text": [
      "The tax rate that maximizes the utility of the worker given the fixed paramteters is 0.5208320624727577\n"
     ]
    }
   ],
   "source": [
    "# write your code here  \n",
    "mmm = LSU.optimal_tax(alpha, sigma, rho, nu, epsilon, kappa, wage)\n",
    "print(f'The tax rate that maximizes the utility of the worker given the fixed paramteters is {mmm}')"
   ]
  },
  {
   "attachments": {},
   "cell_type": "markdown",
   "metadata": {},
   "source": [
    "## 2. <a id='toc2_'></a>[Problem 2: Labor adjustment costs](#toc0_)"
   ]
  },
  {
   "attachments": {},
   "cell_type": "markdown",
   "metadata": {},
   "source": [
    "You own a hair salon. You employ hairdressers, $\\ell_t$, to produce haircuts, $y_t = \\ell_t$.\n",
    "\n",
    "The wage for each haridresser is $w$.\n",
    "\n",
    "The demand for haircuts implies that the price of haircuts you can charge is $p_t = \\kappa_t y_t^{-\\eta}$, where $\\kappa_t$ is a demand-shock and $\\eta \\in (0,1)$ measures the elasticity of demand.\n",
    "\n",
    "Profits are:\n",
    "\n",
    "$$\n",
    "\\Pi_t = p_t y_t - w \\ell_t = \\kappa_t \\ell_t^{1-\\eta} - w \\ell_t\n",
    "$$"
   ]
  },
  {
   "attachments": {},
   "cell_type": "markdown",
   "metadata": {},
   "source": [
    "Baseline parameters are:\n",
    "- $\\eta = 0.5$\n",
    "- $w = 1.0$"
   ]
  },
  {
   "attachments": {},
   "cell_type": "markdown",
   "metadata": {},
   "source": [
    "**Question 1:** Verify numerically that $\\ell_{t}=\\left(\\frac{(1-\\eta)\\kappa_{t}}{w}\\right)^{\\frac{1}{\\eta}}$ maximises profits, for $\\kappa\\in\\left\\{1.0 , 2.0\\right\\}$."
   ]
  },
  {
   "cell_type": "code",
   "execution_count": 47,
   "metadata": {},
   "outputs": [
    {
     "name": "stdout",
     "output_type": "stream",
     "text": [
      "For kappa = 1.0, the maximum profit is: 0.25\n",
      "For kappa = 2.0, the maximum profit is: 1.0\n"
     ]
    },
    {
     "data": {
      "image/png": "[encoded data removed]",
      "text/plain": [
       "<Figure size 432x288 with 1 Axes>"
      ]
     },
     "metadata": {
      "needs_background": "light"
     },
     "output_type": "display_data"
    }
   ],
   "source": [
    "eta=0.5\n",
    "w=1.0\n",
    "\n",
    "def calculate_profit(kappa):\n",
    "    ell = (((1 - eta) * kappa) / w) ** (1 / eta)\n",
    "    price = kappa * ell ** (-eta)\n",
    "    profit = price * ell - w * ell\n",
    "    return profit\n",
    "\n",
    "kappa_values = [1.0, 2.0]\n",
    "\n",
    "for kappa in kappa_values:\n",
    "    profit = calculate_profit(kappa)\n",
    "    print(f\"For kappa = {kappa}, the maximum profit is: {profit}\")\n",
    "\n",
    "kappa_values = np.linspace(0.1, 3.0, 100)  # Generate 100 values between 0.1 and 3.0\n",
    "\n",
    "profits = [calculate_profit(kappa) for kappa in kappa_values]\n",
    "\n",
    "# Plotting\n",
    "plt.plot(kappa_values, profits)\n",
    "plt.xlabel('kappa')\n",
    "plt.ylabel('Profit')\n",
    "plt.title('Profit vs kappa')\n",
    "plt.grid(True)\n",
    "plt.show()\n"
   ]
  },
  {
   "attachments": {},
   "cell_type": "markdown",
   "metadata": {},
   "source": [
    "The graph provides insights into the relationship between kappa and profit, showing the initial positive impact."
   ]
  },
  {
   "attachments": {},
   "cell_type": "markdown",
   "metadata": {},
   "source": [
    "We now consider a *dynamic* version of the model.\n",
    "\n",
    "* The demand-shock is a so-called AR(1) in logs, \n",
    "\n",
    "$$\n",
    "\\log \\kappa_{t} = \\rho \\log \\kappa_{t-1} + \\epsilon_{t},\\,\\,\\, \\epsilon_{t+1} \\sim \\mathcal{N}(-0.5\\sigma_{\\epsilon}^2,\\sigma_{\\epsilon})\n",
    "$$\n",
    "\n",
    "* Any hiring or firing implies a fixed adjustment cost, $\\iota > 0 $.\n",
    "* Future profits are discounted with a monthly factor of $R \\in (0,1)$.\n",
    "\n",
    "The initial demand shock is $\\kappa_{-1} = 1$ and the planning horizon is 10 years, i.e. 120 months so $t \\in \\{0,1,2,\\dots,119\\}$. Initially you don't have any employees, $\\ell_{-1}=0$"
   ]
  },
  {
   "attachments": {},
   "cell_type": "markdown",
   "metadata": {},
   "source": [
    "\n",
    "The *ex post* value of the salon is *conditional* on the shock series is:\n",
    "\n",
    "$$\n",
    "h(\\epsilon_0,\\epsilon_1,\\dots,\\epsilon_{119}) = \\left[\\sum_{t=0}^{119}R^{-t}\\left[\\kappa_{t}\\ell_{t}^{1-\\eta}-w\\ell_{t}-\\boldsymbol{1}_{\\ell_{t}\\neq\\ell_{t-1}}\\iota\\right]\\right]\n",
    "$$\n",
    "\n",
    "The *ex ante* expected value of the salon can be approximated by\n",
    "\n",
    "$$\n",
    "H = \\mathbb{E}[h(\\epsilon_0,\\epsilon_1,\\dots,\\epsilon_{119})] \\approx \\frac{1}{K}\\sum_{k=0}^{K} h(\\epsilon_0^k,\\epsilon_1^k,\\dots,\\epsilon_{119}^k)\n",
    "$$\n",
    "\n",
    "where each $k\\in\\{0,1,\\dots,K-1\\}$ is a random shock series. Maximizing profitability means maximizing $H$.\n"
   ]
  },
  {
   "attachments": {},
   "cell_type": "markdown",
   "metadata": {},
   "source": [
    "Baseline parameters are: \n",
    "\n",
    "- $\\rho = 0.90$\n",
    "- $\\iota = 0.01$\n",
    "- $\\sigma_{\\epsilon} = 0.10$\n",
    "- $R = \\left(1+0.01\\right)^{1/12}$"
   ]
  },
  {
   "attachments": {},
   "cell_type": "markdown",
   "metadata": {},
   "source": [
    "**Question 2:** Calculate $H$ if the policy  $\\ell_{t}=\\left(\\frac{(1-\\eta)\\kappa_{t}}{w}\\right)^{\\frac{1}{\\eta}}$ from question 1 is followed. Choose $K$ so the approximation is good enough to not affect your results substantially."
   ]
  },
  {
   "cell_type": "code",
   "execution_count": 48,
   "metadata": {},
   "outputs": [],
   "source": [
    "from exam_project import ExAnteValueCalculator"
   ]
  },
  {
   "cell_type": "code",
   "execution_count": 49,
   "metadata": {},
   "outputs": [
    {
     "name": "stdout",
     "output_type": "stream",
     "text": [
      "Ex Ante Value (H): 30.3320799579871\n"
     ]
    }
   ],
   "source": [
    "# Set the parameters\n",
    "eta = 0.5\n",
    "w = 1.0\n",
    "rho = 0.90\n",
    "iota = 0.01\n",
    "sigma_epsilon = 0.10\n",
    "R = (1 + 0.01) ** (1 / 12)\n",
    "\n",
    "T = 120  # Planning horizon\n",
    "K = 1000 # Number of random shock series\n",
    "\n",
    "# Create an instance of ExAnteValueCalculator\n",
    "calculator = ExAnteValueCalculator(eta, w, rho, iota, sigma_epsilon, R, T, K)\n",
    "\n",
    "# Calculate the ex ante value\n",
    "ex_ante_value = calculator.calculate_ex_ante_value()\n",
    "\n",
    "# Print the ex ante value\n",
    "print(\"Ex Ante Value (H):\", ex_ante_value)"
   ]
  },
  {
   "attachments": {},
   "cell_type": "markdown",
   "metadata": {},
   "source": [
    "Next, we consider policies on the form:\n",
    "\n",
    "$$\n",
    "\n",
    "\\ell_{t}=\\begin{cases}\n",
    "\\ell_t^{\\ast}  & \\text{if }\\left|\\ell_{t-1}-\\ell_t^{\\ast} \\right|>\\Delta\\\\\n",
    "\\ell_{t-1} & \\text{else }\n",
    "\\end{cases}\n",
    "\\\\\n",
    "\\text{where}\\,\\,\\ell_t^{\\ast} = \\left(\\frac{(1-\\eta)\\kappa_{t}}{w}\\right)^{\\frac{1}{\\eta}} \\\\\n",
    "\n",
    "$$\n",
    "With $\\Delta \\geq 0$ and $\\Delta = 0$ being the previous policy.\n"
   ]
  },
  {
   "attachments": {},
   "cell_type": "markdown",
   "metadata": {},
   "source": [
    "\n",
    "**Question 3:** Calculate $H$ if the policy above was followed with $\\Delta = 0.05$. Does it improve profitability?"
   ]
  },
  {
   "cell_type": "code",
   "execution_count": 50,
   "metadata": {},
   "outputs": [],
   "source": [
    "from exam_project import ExAnteValueCalculator_a"
   ]
  },
  {
   "cell_type": "code",
   "execution_count": 51,
   "metadata": {},
   "outputs": [
    {
     "name": "stdout",
     "output_type": "stream",
     "text": [
      "Ex Ante Value (H) with Delta = 0.05 : 31.44672265077747\n"
     ]
    }
   ],
   "source": [
    "# Set the parameters\n",
    "eta = 0.5\n",
    "w = 1.0\n",
    "rho = 0.90\n",
    "iota = 0.01\n",
    "sigma_epsilon = 0.10\n",
    "R = (1 + 0.01) ** (1 / 12)\n",
    "T = 120  # Planning horizon\n",
    "K = 1000  # Number of random shock series\n",
    "Delta = 0.05\n",
    "\n",
    "# Create an instance of ExAnteValueCalculator\n",
    "calculator = ExAnteValueCalculator_a(eta, w, rho, iota, sigma_epsilon, R, T, K, Delta)\n",
    "\n",
    "# Calculate the ex ante value\n",
    "ex_ante_value = calculator.calculate_ex_ante_value()\n",
    "\n",
    "# Print the ex ante value\n",
    "print(\"Ex Ante Value (H) with Delta =\", Delta, \":\", ex_ante_value)"
   ]
  },
  {
   "attachments": {},
   "cell_type": "markdown",
   "metadata": {},
   "source": [
    "**Answer:** As a result, the case with Delta = 0.05 may have better profitability compared to the case without Delta because the adjustment cost encourages the hairdresser to maintain a more stable level of services over time, avoiding excessive and potentially costly adjustments."
   ]
  },
  {
   "attachments": {},
   "cell_type": "markdown",
   "metadata": {},
   "source": [
    "**Question 4:** Find the optimal $\\Delta$ maximizing $H$. Illustrate your result."
   ]
  },
  {
   "cell_type": "code",
   "execution_count": 52,
   "metadata": {},
   "outputs": [],
   "source": [
    "from exam_project import ExAnteValueCalculator_b"
   ]
  },
  {
   "cell_type": "code",
   "execution_count": 53,
   "metadata": {},
   "outputs": [
    {
     "name": "stdout",
     "output_type": "stream",
     "text": [
      "Optimal Delta: 0.12121212121212122\n",
      "Maximum Ex Ante Value (H): 31.478705200372758\n"
     ]
    },
    {
     "data": {
      "image/png": "[encoded data removed]",
      "text/plain": [
       "<Figure size 432x288 with 1 Axes>"
      ]
     },
     "metadata": {
      "needs_background": "light"
     },
     "output_type": "display_data"
    }
   ],
   "source": [
    "# Set the parameters\n",
    "eta = 0.5\n",
    "w = 1.0\n",
    "rho = 0.90\n",
    "iota = 0.01\n",
    "sigma_epsilon = 0.10\n",
    "R = (1 + 0.01) ** (1 / 12)\n",
    "T = 120  # Planning horizon\n",
    "K = 1000  # Number of random shock series\n",
    "\n",
    "# Create an instance of ExAnteValueCalculator\n",
    "calculator = ExAnteValueCalculator_b(eta, w, rho, iota, sigma_epsilon, R, T, K)\n",
    "\n",
    "# Define the range of delta values\n",
    "delta_values = np.linspace(0, 0.2, 100)\n",
    "\n",
    "# Calculate the optimal delta and maximum ex ante value\n",
    "optimal_delta, max_ex_ante_value, ex_ante_values = calculator.find_optimal_delta(delta_values)\n",
    "\n",
    "# Print the results\n",
    "print(\"Optimal Delta:\", optimal_delta)\n",
    "print(\"Maximum Ex Ante Value (H):\", max_ex_ante_value)\n",
    "\n",
    "# Plot the results\n",
    "calculator.plot_ex_ante_values(delta_values, ex_ante_values)"
   ]
  },
  {
   "attachments": {},
   "cell_type": "markdown",
   "metadata": {},
   "source": [
    "After the optimal Delta, the maximum Ex Ante Value stagnates so it's not efficient to increase Delta more than optimal value."
   ]
  },
  {
   "attachments": {},
   "cell_type": "markdown",
   "metadata": {},
   "source": [
    "\n",
    "**Question 5:** Suggest an alternative policy you believe might improve profitability. Implement and test your policy.\n",
    "\n"
   ]
  },
  {
   "attachments": {},
   "cell_type": "markdown",
   "metadata": {},
   "source": [
    "One alternative policy that could potentially improve profitability is to adjust the hairdresser's wage (w) based on the previous period's profit. The idea is to increase the wage by 5% if the previous period's profit was positive and remain unchanged it if the profit was negative. By adjusting the wage dynamically based on profitability, the salon can adapt to changing market conditions and potentially improve its overall profitability.\n",
    "\n",
    "Here's the implementation of the alternative policy:"
   ]
  },
  {
   "cell_type": "code",
   "execution_count": 54,
   "metadata": {},
   "outputs": [],
   "source": [
    "from exam_project import ExAnteValueCalculator_c"
   ]
  },
  {
   "cell_type": "code",
   "execution_count": 55,
   "metadata": {},
   "outputs": [
    {
     "name": "stdout",
     "output_type": "stream",
     "text": [
      "Ex Ante Value (H) with the alternative policy: 28.841606124972056\n"
     ]
    }
   ],
   "source": [
    "# Set the parameters\n",
    "eta = 0.5\n",
    "rho = 0.90\n",
    "iota = 0.01\n",
    "sigma_epsilon = 0.10\n",
    "R = (1 + 0.01) ** (1 / 12)\n",
    "T = 120  # Planning horizon\n",
    "K = 1000  # Number of random shock series\n",
    "delta = 0.05  # Delta value for the alternative policy\n",
    "\n",
    "# Create an instance of ExAnteValueCalculator\n",
    "calculator = ExAnteValueCalculator_c(eta, rho, iota, sigma_epsilon, R, T, K)\n",
    "\n",
    "# Calculate the ex ante value with the alternative policy\n",
    "ex_ante_value = calculator.calculate_ex_ante_value_b(delta)\n",
    "\n",
    "print(\"Ex Ante Value (H) with the alternative policy:\", ex_ante_value)"
   ]
  },
  {
   "attachments": {},
   "cell_type": "markdown",
   "metadata": {},
   "source": [
    "**Answer:** The reason for the lower ex ante value under the alternative policy could be attributed to the fact that adjusting the wage based on profitability may introduce additional volatility or instability in the system. By increasing the wage when the profit is positive, the salon incurs higher labor costs, which may not be fully offset by the increased profitability. On the other hand, keeping the wage unchanged when the profit is negative does not allow for immediate cost reductions to mitigate the loss."
   ]
  },
  {
   "attachments": {},
   "cell_type": "markdown",
   "metadata": {},
   "source": [
    "## 3. <a id='toc3_'></a>[Problem 3: Global optimizer with refined multi-start](#toc0_)"
   ]
  },
  {
   "attachments": {},
   "cell_type": "markdown",
   "metadata": {},
   "source": [
    "We consider the Griewank function:\n",
    "\n",
    "$$ f(\\boldsymbol{x}) = \\sum^n_{i=1} \\frac{x^2_i}{4000}-\\prod^n_{i=1}\\cos\\left(\\frac{x_i}{\\sqrt{i}}\\right)+1$$\n",
    "\n",
    "The **global minimum** of this function is $f(0,0) = 0$ (remember: $\\cos(0)=1$).<br>\n",
    "But the function also have a lot of **local minima**."
   ]
  },
  {
   "cell_type": "code",
   "execution_count": 56,
   "metadata": {},
   "outputs": [],
   "source": [
    "def griewank(x):\n",
    "    return griewank_(x[0],x[1])\n",
    "    \n",
    "def griewank_(x1,x2):\n",
    "    A = x1**2/4000 + x2**2/4000\n",
    "    B = np.cos(x1/np.sqrt(1))*np.cos(x2/np.sqrt(2))\n",
    "    return A-B+1"
   ]
  },
  {
   "attachments": {},
   "cell_type": "markdown",
   "metadata": {},
   "source": [
    "A **refined global optimizer with multi-start** is:\n",
    "\n",
    "1. Choose *bounds* for $\\mathbf{x}$ and *tolerance* $\\tau > 0$.\n",
    "2. Choose number of *warm-up iterations*, $\\underline{K} > 0$ and *maximum number of iterations*, $K > \\underline{K}$.\n",
    "3. In each iteration for $k \\in \\{0,1,\\dots,K-1\\}$:\n",
    "\n",
    "    A. Draw random $\\mathbf{x}^k$ uniformly within chosen bounds.\n",
    "\n",
    "    B. If $k < \\underline{K}$ go to step E.\n",
    "\n",
    "    C. Calculate $\\chi^k = 0.50\\cdot\\frac{2}{1+\\exp((k-\\underline{K})/100)}$  \n",
    "\n",
    "    D. Set $\\mathbf{x}^{k0} = \\chi^k \\mathbf{x}^k + (1-\\chi^k)\\mathbf{x}^{\\ast} $\n",
    "\n",
    "    E. Run optimizer with $\\mathbf{x}^{k0}$ as initial guess and $\\mathbf{x}^{k\\ast}$ as result.\n",
    "\n",
    "    F. Set $\\mathbf{x}^{\\ast} = \\mathbf{x}^{k\\ast}$ if $k = 0$ or $f(\\mathbf{x}^{k\\ast}) < f(\\mathbf{x}^{\\ast})$\n",
    "\n",
    "    G. If $f(\\mathbf{x}^{\\ast}) < \\tau$ go to step 4.\n",
    "\n",
    "4. Return the result $\\mathbf{x}^{\\ast}$."
   ]
  },
  {
   "attachments": {},
   "cell_type": "markdown",
   "metadata": {},
   "source": [
    "As settings we choose:\n",
    "\n",
    "* $x_1,x_2 \\in  [-600,600]$\n",
    "* $\\tau = 10^{-8}$\n",
    "* $\\underline{K}=10$\n",
    "* $K=1000$\n",
    "\n",
    "The optimizer in Step 3.E is `BFGS` with a tolerance of $\\tau$."
   ]
  },
  {
   "attachments": {},
   "cell_type": "markdown",
   "metadata": {},
   "source": [
    "**Question 1:** Implement the refined global optimizer with multi-start. Illustrate how the effective initial guesses $\\mathbf{x}^{k0}$ vary with the iteration counter $k$."
   ]
  },
  {
   "cell_type": "code",
   "execution_count": 57,
   "metadata": {},
   "outputs": [],
   "source": [
    "# write your code here\n",
    "np.random.seed(1986)\n",
    "x0s = -600 + 1200*np.random.uniform(size=(5000,2)) # in [-600,600]\n",
    "xs = np.empty((5000,2))\n",
    "fs = np.empty(5000)"
   ]
  },
  {
   "cell_type": "code",
   "execution_count": 58,
   "metadata": {},
   "outputs": [
    {
     "name": "stdout",
     "output_type": "stream",
     "text": [
      "min(x0s) = -599.82, max(x0s) = 599.99\n"
     ]
    }
   ],
   "source": [
    "print(f'min(x0s) = {np.min(x0s):.2f}, max(x0s) = {np.max(x0s):.2f}')"
   ]
  },
  {
   "cell_type": "code",
   "execution_count": 59,
   "metadata": {},
   "outputs": [
    {
     "name": "stdout",
     "output_type": "stream",
     "text": [
      "min(x0s) = -599.82, max(x0s) = 599.99\n",
      "   0: x0 = (-263.58,-236.01) -> converged at (-260.62,-235.23) with f =  30.83727703\n",
      "   1: x0 = (-261.15, 214.78) -> converged at (-260.62, 217.48) with f =  28.82591580\n",
      "   2: x0 = (-265.05, 107.72) -> converged at (-263.76, 106.52) with f =  20.24084886\n",
      "   3: x0 = (-274.78,  79.65) -> converged at (-276.32,  79.89) with f =  20.69525257\n",
      "   4: x0 = (-256.15, 116.47) -> converged at (-257.48, 115.40) with f =  19.91506600\n",
      "   5: x0 = (-256.15, 164.93) -> converged at (-254.34, 164.22) with f =  22.92944925\n",
      "   6: x0 = (-281.05, 137.93) -> converged at (-279.46, 137.59) with f =  24.27205721\n",
      "   7: x0 = (-279.59, -37.83) -> converged at (-279.46, -39.95) with f =  19.93381656\n",
      "   8: x0 = (-264.57, -40.60) -> converged at (-266.90, -39.95) with f =  18.21736666\n",
      "   9: x0 = (-263.05, 211.87) -> converged at (-263.76, 213.04) with f =  28.75957133\n",
      "  13: x0 = (-257.05, -21.61) -> converged at (-254.34, -22.19) with f =  16.30376320\n",
      "  15: x0 = (-247.15,  34.91) -> converged at (-241.78,  31.07) with f =  14.86346318\n",
      "  86: x0 = (-281.28, 197.81) -> converged at ( -15.70, 226.36) with f =  12.88422416\n",
      " 119: x0 = (-287.90, 102.40) -> converged at (-147.58, 110.96) with f =   8.52892408\n",
      " 147: x0 = (-284.59, -15.84) -> converged at ( -56.52, -44.38) with f =   1.29202541\n",
      " 538: x0 = (-288.96,-182.08) -> converged at (  -3.14,  -4.44) with f =   0.00739604\n",
      "\n",
      "best solution:\n",
      " x = (  -3.14,  -4.44) -> f =   0.00739604\n"
     ]
    }
   ],
   "source": [
    "def griewank(x):\n",
    "    return griewank_(x[0], x[1])\n",
    "\n",
    "def griewank_(x1, x2):\n",
    "    A = x1**2 / 4000 + x2**2 / 4000\n",
    "    B = np.cos(x1 / np.sqrt(1)) * np.cos(x2 / np.sqrt(2))\n",
    "    return A - B + 1\n",
    "\n",
    "# Set the random seed.\n",
    "np.random.seed(1986)\n",
    "# Create a list of initial guesses.\n",
    "x0s = -600 + 1200 * np.random.uniform(size=(5000, 2))  # in [-600,600]\n",
    "# Create lists to store the results.\n",
    "xs = np.empty((5000, 2))\n",
    "fs = np.empty(5000)\n",
    "\n",
    "# Create a random vector x0.\n",
    "xk = np.random.uniform(-600, 600, size=2)\n",
    "\n",
    "# Calculate chi^k.\n",
    "chi = 0.50 * (2 / (1 + np.exp((xk - 10) / 100)))\n",
    "# Set the initial guess for the optimizer.\n",
    "x_k0 = chi * xk + (1 - chi) * x0s\n",
    "\n",
    "x0 = np.random.uniform(-600, 600, size=2)\n",
    "# Print the minimum and maximum values of x0s.\n",
    "print(f'min(x0s) = {np.min(x0s):.2f}, max(x0s) = {np.max(x0s):.2f}')\n",
    "\n",
    "# Initialize the best solution.\n",
    "fopt = np.inf\n",
    "xopt = np.nan\n",
    "# Iterate over the initial guesses.\n",
    "for i, x0 in enumerate(x_k0):\n",
    "\n",
    "    # a. optimize\n",
    "    result = optimize.minimize(griewank, x0, method='BFGS', options={'maxiter': 1000})\n",
    "    # Store the result.\n",
    "    xs[i, :] = result.x\n",
    "    f = result.fun\n",
    "\n",
    "    # b. print first 10 or if better than seen yet\n",
    "    if i < 10 or f < fopt:  # plot 10 first or if improving\n",
    "        if f < fopt:\n",
    "            fopt = f\n",
    "            xopt = xs[i, :]\n",
    "\n",
    "        print(f'{i:4d}: x0 = ({x0[0]:7.2f},{x0[1]:7.2f})', end='')\n",
    "        print(f' -> converged at ({xs[i][0]:7.2f},{xs[i][1]:7.2f}) with f = {f:12.8f}')\n",
    "\n",
    "# best solution\n",
    "print(f'\\nbest solution:\\n x = ({xopt[0]:7.2f},{xopt[1]:7.2f}) -> f = {fopt:12.8f}')\n"
   ]
  },
  {
   "cell_type": "code",
   "execution_count": 60,
   "metadata": {},
   "outputs": [
    {
     "data": {
      "image/png": "[encoded data removed]",
      "text/plain": [
       "<Figure size 432x288 with 1 Axes>"
      ]
     },
     "metadata": {
      "needs_background": "light"
     },
     "output_type": "display_data"
    }
   ],
   "source": [
    "fig = plt.figure()\n",
    "ax = fig.add_subplot(1,1,1)\n",
    "ax.scatter(xs[:,0],xs[:,1])\n",
    "ax.set_xlabel('$x_1$')\n",
    "ax.set_ylabel('$x_2$');"
   ]
  },
  {
   "cell_type": "code",
   "execution_count": 61,
   "metadata": {},
   "outputs": [
    {
     "data": {
      "image/png": "[encoded data removed]",
      "text/plain": [
       "<Figure size 432x288 with 2 Axes>"
      ]
     },
     "metadata": {
      "needs_background": "light"
     },
     "output_type": "display_data"
    }
   ],
   "source": [
    "fig = plt.figure()\n",
    "ax = fig.add_subplot(1,2,1)\n",
    "ax.hist(xs[:,0],bins=50)\n",
    "ax.set_xlabel('$x_1$');\n",
    "\n",
    "ax = fig.add_subplot(1,2,2)\n",
    "ax.hist(xs[:,1],bins=50)\n",
    "ax.set_xlabel('$x_2$');"
   ]
  },
  {
   "attachments": {},
   "cell_type": "markdown",
   "metadata": {},
   "source": [
    "**Question 2:** Is it a better idea to set $\\underline{K} = 100$? Is the convergence faster?"
   ]
  },
  {
   "attachments": {},
   "cell_type": "markdown",
   "metadata": {},
   "source": [
    "Below is the case of $\\underline{K} = 100$"
   ]
  },
  {
   "cell_type": "code",
   "execution_count": 62,
   "metadata": {},
   "outputs": [
    {
     "name": "stdout",
     "output_type": "stream",
     "text": [
      "min(x0s) = -599.82, max(x0s) = 599.99\n",
      "   0: x0 = (-263.58,-236.01) -> converged at (-257.48,-239.67) with f =  30.95785204\n",
      "   1: x0 = (-261.15, 214.78) -> converged at (-260.62, 217.48) with f =  28.82591580\n",
      "   2: x0 = (-265.05, 107.72) -> converged at (-263.76, 106.52) with f =  20.24084886\n",
      "   3: x0 = (-274.78,  79.65) -> converged at (-276.32,  79.89) with f =  20.69525257\n",
      "   4: x0 = (-256.15, 116.47) -> converged at (-257.48, 115.40) with f =  19.91506600\n",
      "   5: x0 = (-256.15, 164.93) -> converged at (-254.34, 164.22) with f =  22.92944925\n",
      "   6: x0 = (-281.05, 137.93) -> converged at (-279.46, 137.59) with f =  24.27205721\n",
      "   7: x0 = (-279.59, -37.83) -> converged at (-279.46, -39.95) with f =  19.93381656\n",
      "   8: x0 = (-264.57, -40.60) -> converged at (-270.04, -44.38) with f =  18.73274736\n",
      "   9: x0 = (-263.05, 211.87) -> converged at (-263.76, 213.04) with f =  28.75957133\n",
      "  11: x0 = (-245.82,-126.24) -> converged at (-153.86, -84.33) with f =   7.70094603\n",
      "  78: x0 = (-274.76, 109.13) -> converged at ( -18.84, 124.28) with f =   3.95379929\n",
      " 104: x0 = (-266.66, 142.79) -> converged at ( -21.98,  22.19) with f =   0.24408903\n"
     ]
    },
    {
     "name": "stderr",
     "output_type": "stream",
     "text": [
      "<ipython-input-62-ea1990f6a553>:36: OptimizeWarning: Unknown solver options: warm_start\n",
      "  result = optimize.minimize(griewank, x0, method='L-BFGS-B', options={'maxiter': 1000, 'warm_start': 100})\n"
     ]
    },
    {
     "name": "stdout",
     "output_type": "stream",
     "text": [
      " 208: x0 = (-276.08, -30.78) -> converged at (   9.42,  22.19) with f =   0.14544232\n",
      "2319: x0 = (-282.28,  93.97) -> converged at (  18.84,   8.88) with f =   0.10850154\n",
      "3500: x0 = (-260.04,  96.90) -> converged at ( -18.84,   0.00) with f =   0.08878205\n",
      "\n",
      "best solution:\n",
      " x = ( -18.84,   0.00) -> f =   0.08878205\n"
     ]
    }
   ],
   "source": [
    "def griewank(x):\n",
    "    return griewank_(x[0], x[1])\n",
    "\n",
    "def griewank_(x1, x2):\n",
    "    A = x1**2 / 4000 + x2**2 / 4000\n",
    "    B = np.cos(x1 / np.sqrt(1)) * np.cos(x2 / np.sqrt(2))\n",
    "    return A - B + 1\n",
    "\n",
    "# Set the random seed.\n",
    "np.random.seed(1986)\n",
    "# Create a list of initial guesses.\n",
    "x0s = -600 + 1200 * np.random.uniform(size=(5000, 2))  # in [-600,600]\n",
    "# Create lists to store the results.\n",
    "xs = np.empty((5000, 2))\n",
    "fs = np.empty(5000)\n",
    "\n",
    "# Create a random vector x0.\n",
    "xk = np.random.uniform(-600, 600, size=2)\n",
    "\n",
    "# Calculate chi^k.\n",
    "chi = 0.50 * (2 / (1 + np.exp((xk - 10) / 100)))\n",
    "# Set the initial guess for the optimizer.\n",
    "x_k0 = chi * xk + (1 - chi) * x0s\n",
    "\n",
    "x0 = np.random.uniform(-600, 600, size=2)\n",
    "# Print the minimum and maximum values of x0s.\n",
    "print(f'min(x0s) = {np.min(x0s):.2f}, max(x0s) = {np.max(x0s):.2f}')\n",
    "\n",
    "# Initialize the best solution.\n",
    "fopt = np.inf\n",
    "xopt = np.nan\n",
    "# Iterate over the initial guesses.\n",
    "for i, x0 in enumerate(x_k0):\n",
    "\n",
    "    # a. optimize\n",
    "    result = optimize.minimize(griewank, x0, method='L-BFGS-B', options={'maxiter': 1000, 'warm_start': 100})\n",
    "    # Store the result.\n",
    "    xs[i, :] = result.x\n",
    "    f = result.fun\n",
    "\n",
    "    # b. print first 10 or if better than seen yet\n",
    "    if i < 10 or f < fopt:  # plot 10 first or if improving\n",
    "        if f < fopt:\n",
    "            fopt = f\n",
    "            xopt = xs[i, :]\n",
    "\n",
    "        print(f'{i:4d}: x0 = ({x0[0]:7.2f},{x0[1]:7.2f})', end='')\n",
    "        print(f' -> converged at ({xs[i][0]:7.2f},{xs[i][1]:7.2f}) with f = {f:12.8f}')\n",
    "\n",
    "# best solution\n",
    "print(f'\\nbest solution:\\n x = ({xopt[0]:7.2f},{xopt[1]:7.2f}) -> f = {fopt:12.8f}')\n"
   ]
  },
  {
   "cell_type": "code",
   "execution_count": 63,
   "metadata": {},
   "outputs": [
    {
     "data": {
      "image/png": "[encoded data removed]",
      "text/plain": [
       "<Figure size 432x288 with 1 Axes>"
      ]
     },
     "metadata": {
      "needs_background": "light"
     },
     "output_type": "display_data"
    }
   ],
   "source": [
    "fig = plt.figure()\n",
    "ax = fig.add_subplot(1,1,1)\n",
    "ax.scatter(xs[:,0],xs[:,1])\n",
    "ax.set_xlabel('$x_1$')\n",
    "ax.set_ylabel('$x_2$');"
   ]
  },
  {
   "cell_type": "code",
   "execution_count": 64,
   "metadata": {},
   "outputs": [
    {
     "data": {
      "image/png": "[encoded data removed]",
      "text/plain": [
       "<Figure size 432x288 with 2 Axes>"
      ]
     },
     "metadata": {
      "needs_background": "light"
     },
     "output_type": "display_data"
    }
   ],
   "source": [
    "fig = plt.figure()\n",
    "ax = fig.add_subplot(1,2,1)\n",
    "ax.hist(xs[:,0],bins=50)\n",
    "ax.set_xlabel('$x_1$');\n",
    "\n",
    "ax = fig.add_subplot(1,2,2)\n",
    "ax.hist(xs[:,1],bins=50)\n",
    "ax.set_xlabel('$x_2$');"
   ]
  },
  {
   "attachments": {},
   "cell_type": "markdown",
   "metadata": {},
   "source": [
    "**Answer:** In summary, as you can see in the scatter plot, increasing $\\underline{K}$ to a larger value extends the warm-up phase, allowing for more exploration of the solution space. While this can provide a broader initial set of solutions, it resulted in slower convergence during the refined optimization phase. The choice of K_under should strike a balance between exploration and exploitation based on the problem's characteristics and desired convergence speed."
   ]
  }
 ],
 "metadata": {
  "kernelspec": {
   "display_name": "base",
   "language": "python",
   "name": "python3"
  },
  "language_info": {
   "codemirror_mode": {
    "name": "ipython",
    "version": 3
   },
   "file_extension": ".py",
   "mimetype": "text/x-python",
   "name": "python",
   "nbconvert_exporter": "python",
   "pygments_lexer": "ipython3",
   "version": "3.8.8"
  },
  "orig_nbformat": 4
 },
 "nbformat": 4,
 "nbformat_minor": 2
}
