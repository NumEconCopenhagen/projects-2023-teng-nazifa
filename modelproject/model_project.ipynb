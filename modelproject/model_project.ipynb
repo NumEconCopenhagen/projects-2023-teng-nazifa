{
 "cells": [
  {
   "attachments": {},
   "cell_type": "markdown",
   "metadata": {},
   "source": [
    "Imports and set magics:"
   ]
  },
  {
   "cell_type": "code",
   "execution_count": 51,
   "metadata": {},
   "outputs": [
    {
     "name": "stdout",
     "output_type": "stream",
     "text": [
      "The autoreload extension is already loaded. To reload it, use:\n",
      "  %reload_ext autoreload\n"
     ]
    }
   ],
   "source": [
    "import numpy as np\n",
    "from scipy import optimize\n",
    "import sympy as sm\n",
    "\n",
    "# autoreload modules when code is run\n",
    "%load_ext autoreload\n",
    "%autoreload 2\n",
    "\n",
    "# local modules\n",
    "import modelproject"
   ]
  },
  {
   "attachments": {},
   "cell_type": "markdown",
   "metadata": {},
   "source": [
    "# Cournout Equilibrium"
   ]
  },
  {
   "attachments": {},
   "cell_type": "markdown",
   "metadata": {},
   "source": [
    "Each company in an oligopoly determines its output level in a Cournot equilibrium under the premise that its rivals won't alter their output levels in response. In particular, given the output levels chosen by its rivals, each firm selects its output level to maximize profit. As a result, there is a set of output levels where no firm can unilaterally change its output level to raise its profit.\n",
    "\n",
    "we assume there are three identical firms in same industry where their merginal cost is zero. so we want to see the production quantities and what is the price of each firms including the changes if two firms merge in between three how does it shares the production and prices. \n",
    "\n",
    "For instance, their production quantities are denoted\n",
    "q1, q2, and q3. The inverse demand function is\n",
    "p = 1 − Q,\n",
    "where\n",
    "Q = q1 + q2 + q3."
   ]
  },
  {
   "attachments": {},
   "cell_type": "markdown",
   "metadata": {},
   "source": [
    "**Model Equations**"
   ]
  },
  {
   "cell_type": "code",
   "execution_count": 52,
   "metadata": {},
   "outputs": [],
   "source": [
    "from scipy.optimize import minimize\n",
    "\n",
    "# Define the inverse demand function\n",
    "def inverse_demand(q1, q2, q3):\n",
    "    Q = q1 + q2 + q3\n",
    "    return 1 - Q\n",
    "\n",
    "# Define the total cost function\n",
    "def total_cost(q1, q2, q3):\n",
    "    return 0  # marginal cost is zero\n"
   ]
  },
  {
   "attachments": {},
   "cell_type": "markdown",
   "metadata": {},
   "source": [
    "## Numerical solution"
   ]
  },
  {
   "attachments": {},
   "cell_type": "markdown",
   "metadata": {},
   "source": [
    "Finding out production quantities of each firms"
   ]
  },
  {
   "cell_type": "code",
   "execution_count": 53,
   "metadata": {},
   "outputs": [
    {
     "name": "stdout",
     "output_type": "stream",
     "text": [
      "Cournot Equilibrium Quantities: q1 = 0.25, q2 = 0.25, q3 = 0.25\n"
     ]
    }
   ],
   "source": [
    "from scipy.optimize import fsolve\n",
    "\n",
    "#production quantities of each firm\n",
    "\n",
    "def cournot_equilibrium(q):\n",
    "    q1, q2, q3 = q\n",
    "    return [\n",
    "        q1 - (1/2) * (1 - q2 - q3),\n",
    "        q2 - (1/2) * (1 - q1 - q3),\n",
    "        q3 - (1/2) * (1 - q1 - q2)\n",
    "    ]\n",
    "\n",
    "q0 = [0, 0, 0] # if the intial production zero\n",
    "q_cournot = fsolve(cournot_equilibrium, q0)\n",
    "print(\"Cournot Equilibrium Quantities: q1 = {:.2f}, q2 = {:.2f}, q3 = {:.2f}\".format(*q_cournot))\n"
   ]
  },
  {
   "cell_type": "code",
   "execution_count": 54,
   "metadata": {},
   "outputs": [
    {
     "name": "stdout",
     "output_type": "stream",
     "text": [
      "Price in Cournot-equilibrium: 0.25\n"
     ]
    }
   ],
   "source": [
    "#price in cournot-equilibrium\n",
    "q1_cournot, q2_cournot, q3_cournot = q_cournot\n",
    "Q_cournot = q1_cournot + q2_cournot + q3_cournot\n",
    "p_cournot = 1 - Q_cournot\n",
    "\n",
    "print(\"Price in Cournot-equilibrium: {:.2f}\".format(p_cournot))\n"
   ]
  },
  {
   "attachments": {},
   "cell_type": "markdown",
   "metadata": {},
   "source": [
    "The output of the code reveals that each business produces 0.25 units of output in the Cournot equilibrium, resulting in a total market supply of 0.75 units. The market demand minus the total market supply, or 1 - 0.75 = 0.25, determines the equilibrium price.\n",
    "\n",
    "The Cournot model is helpful for examining the strategic interactions between businesses in an oligopoly from an economic standpoint. Given the actions of the other firms, the model predicts that each firm will move to maximize its earnings, which has a suboptimal result for the industry as a whole. In an oligopoly, the Cournot equilibrium is one of several potential solutions, and the choice of equilibrium is determined by the production costs, demand dynamics, and strategic behavior of the businesses. "
   ]
  },
  {
   "attachments": {},
   "cell_type": "markdown",
   "metadata": {},
   "source": [
    "**Figuring out if two firms merge into one out of three firms the production quantities and price function.**"
   ]
  },
  {
   "cell_type": "code",
   "execution_count": 55,
   "metadata": {},
   "outputs": [
    {
     "name": "stdout",
     "output_type": "stream",
     "text": [
      "Cournot Equilibrium Quantities: qm = 0.33, q3 = 0.33\n",
      "Price in Cournot-equilibrium: 0.33\n"
     ]
    }
   ],
   "source": [
    "#production quantities in duopoly\n",
    "def cournot_equilibrium(q):\n",
    "    qm, q3 = q\n",
    "    return [\n",
    "        qm - (1/2) * (1 - q3),\n",
    "        q3 - (1/2) * (1 - qm)\n",
    "    ]\n",
    "\n",
    "q0 = [0, 0] # initial guess for the solution\n",
    "qm_cournot, q3_cournot = fsolve(cournot_equilibrium, q0)\n",
    "\n",
    "#price in the dupoly cournout\n",
    "Q_cournot = qm_cournot + q3_cournot\n",
    "p_cournot = 1 - Q_cournot\n",
    "\n",
    "print(\"Cournot Equilibrium Quantities: qm = {:.2f}, q3 = {:.2f}\".format(qm_cournot, q3_cournot))\n",
    "print(\"Price in Cournot-equilibrium: {:.2f}\".format(p_cournot))\n"
   ]
  },
  {
   "attachments": {},
   "cell_type": "markdown",
   "metadata": {},
   "source": [
    "The results explain that each company charges a third of what it produces to sell it. This pricing is quite lower than the oligopaly price, where one company produces the entire amount and sets the price higher to increase profits. The perfectly competitive price, in which every business produces an infinitesimally small amount and sells it for the going rate, is higher than this one.\n",
    "\n",
    "The Cournot equilibrium depicts a scenario in which businesses are vying with one another for market share while simultaneously considering how their own production choices will affect market prices. Given the output choices of its rivals, no firm is motivated to vary from its planned level of production, indicating that the equilibrium is stable."
   ]
  },
  {
   "attachments": {},
   "cell_type": "markdown",
   "metadata": {},
   "source": [
    "# Further Analysis"
   ]
  },
  {
   "attachments": {},
   "cell_type": "markdown",
   "metadata": {},
   "source": [
    "**If all the firms merge and turn into monopoly the production and price calculation**"
   ]
  },
  {
   "cell_type": "code",
   "execution_count": 59,
   "metadata": {},
   "outputs": [
    {
     "name": "stdout",
     "output_type": "stream",
     "text": [
      "Cournot Equilibrium Quantities: 0.500\n",
      "Price in Cournot-equilibrium: 0.500\n"
     ]
    }
   ],
   "source": [
    "#quantities in monopoly\n",
    "def monopoly_eqilibriumm():\n",
    "    # Monopoly in the industry\n",
    "    Q = 1/2\n",
    "    p = 1 - Q\n",
    "    return Q, p\n",
    "\n",
    "Q, p = monopoly_eqilibriumm()\n",
    "print(f\"Cournot Equilibrium Quantities: {Q:.3f}\")\n",
    "print(f\"Price in Cournot-equilibrium: {p:.3f}\")\n",
    "\n"
   ]
  },
  {
   "attachments": {},
   "cell_type": "markdown",
   "metadata": {},
   "source": [
    "From an economic point of view, the merger of the three firms into a single monopolist lessens industry competition, which may result in higher prices and less output volumes. The lack of competition may boost the revenues of the merged companies, but customer welfare may suffer as a result. "
   ]
  },
  {
   "attachments": {},
   "cell_type": "markdown",
   "metadata": {},
   "source": [
    "# Conclution"
   ]
  },
  {
   "attachments": {},
   "cell_type": "markdown",
   "metadata": {},
   "source": [
    "In this case, we looked at how mergers would affect a market with three identical firms that were in a Cournot equilibrium. We discovered that if two of the businesses merged, the reduced competition would hurt their earnings and may raise consumer prices. Consumers would pay more if all three businesses combined to establish a monopolist since less product would be produced."
   ]
  }
 ],
 "metadata": {
  "kernelspec": {
   "display_name": "base",
   "language": "python",
   "name": "python3"
  },
  "language_info": {
   "codemirror_mode": {
    "name": "ipython",
    "version": 3
   },
   "file_extension": ".py",
   "mimetype": "text/x-python",
   "name": "python",
   "nbconvert_exporter": "python",
   "pygments_lexer": "ipython3",
   "version": "3.9.13"
  },
  "orig_nbformat": 4
 },
 "nbformat": 4,
 "nbformat_minor": 2
}
